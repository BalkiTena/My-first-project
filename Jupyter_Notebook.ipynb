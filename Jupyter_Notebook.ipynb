{
 "cells": [
  {
   "cell_type": "markdown",
   "metadata": {},
   "source": [
    "<center>\n",
    "    <img src=\"https://cf-courses-data.s3.us.cloud-object-storage.appdomain.cloud/IBMDeveloperSkillsNetwork-DS0105EN-SkillsNetwork/labs/Module2/images/SN_web_lightmode.png\" width=\"300\" alt=\"cognitiveclass.ai logo\">\n",
    "</center>\n"
   ]
  },
  {
   "cell_type": "markdown",
   "metadata": {},
   "source": [
    "#### Add your code below following the instructions given in the course\n"
   ]
  },
  {
   "cell_type": "markdown",
   "metadata": {},
   "source": [
    "# *My First Project*"
   ]
  },
  {
   "cell_type": "markdown",
   "metadata": {},
   "source": [
    "## 1) Introduction\n",
    "\n",
    "This is my first graded assignment. In this notebook, I will answer the exercises that were provided to us."
   ]
  },
  {
   "cell_type": "markdown",
   "metadata": {},
   "source": [
    "### Exercise 4 \n",
    "The data science languages are:\n",
    "1. R\n",
    "2. Python:\n",
    "3. SQL \n",
    "4. Julia\n",
    "5. Scala"
   ]
  },
  {
   "cell_type": "markdown",
   "metadata": {},
   "source": [
    "### Exercise 5\n",
    "\n",
    "The libraries for data science are:\n",
    "\n",
    "1. Pandas\n",
    "2. Numpy\n",
    "3. Matplotlib\n",
    "4. Scikit-learn\n",
    "5. Ggplot 2\n",
    "6. Dplyr"
   ]
  },
  {
   "cell_type": "markdown",
   "metadata": {},
   "source": [
    "## Exercise 6\n",
    "\n",
    "The tools for data science are:\n",
    "\n",
    "\n",
    "1. Jupyter Notebook\t\n",
    "2. RStudio\t\n",
    "3. Apache Spark\t\n",
    "4. Tableau\n",
    "5. Excel\t"
   ]
  },
  {
   "cell_type": "markdown",
   "metadata": {},
   "source": [
    "### Exercise 7\n",
    "\n",
    "Below are examples of arithmetic expressions:\n",
    "\n",
    "1. Addition: 5 + 3 = 8\n",
    "2. Subtraction: 10 - 4 = 6\n",
    "3. Multiplication: 6 * 7 = 42\n",
    "4. Division: 20 / 5 = 4\n",
    "5. Exponentiation: 2 ** 3 = 8\n",
    "6. Modulus: 10 % 3 = 1"
   ]
  },
  {
   "cell_type": "markdown",
   "metadata": {},
   "source": [
    "### Exercise 8"
   ]
  },
  {
   "cell_type": "code",
   "execution_count": 6,
   "metadata": {},
   "outputs": [
    {
     "name": "stdout",
     "output_type": "stream",
     "text": [
      "15\n",
      "35\n"
     ]
    }
   ],
   "source": [
    "# Multiplication\n",
    "\n",
    "multiplication = 3 * 5\n",
    "\n",
    "# Addition\n",
    "\n",
    "addition = 15 + 20\n",
    "\n",
    "# Result\n",
    "\n",
    "print(multiplication)\n",
    "print(addition)\n"
   ]
  },
  {
   "cell_type": "markdown",
   "metadata": {},
   "source": [
    "### Exercise 9"
   ]
  },
  {
   "cell_type": "code",
   "execution_count": 8,
   "metadata": {},
   "outputs": [
    {
     "name": "stdout",
     "output_type": "stream",
     "text": [
      "The 200 minutes is equivalent 3 hours and 20 minutes.\n"
     ]
    }
   ],
   "source": [
    "# Fuction to convert minutes to hours\n",
    "\n",
    "def convert_to_hours(minutes):\n",
    "    hours = minutes // 60\n",
    "    re_minutes = minutes % 60\n",
    "    return hours, re_minutes\n",
    "\n",
    "# Example\n",
    "\n",
    "minutes = 200\n",
    "hours, re_minutes = convert_to_hours(minutes)\n",
    "\n",
    "print(f'The {minutes} minutes is equivalent {hours} hours and {re_minutes} minutes.')\n",
    "    "
   ]
  },
  {
   "cell_type": "markdown",
   "metadata": {},
   "source": [
    "### Exercise 10"
   ]
  },
  {
   "cell_type": "code",
   "execution_count": 9,
   "metadata": {},
   "outputs": [
    {
     "name": "stdout",
     "output_type": "stream",
     "text": [
      "Objectives:\n",
      "- Learn about data science tools.\n",
      "- Master the use of Python for data analysis.\n",
      "- Create effective visualizations for decision-making.\n",
      "- Develop skills in using libraries like Pandas and Matplotlib.\n",
      "- Participate in data analysis and Machine Learning projects.\n"
     ]
    }
   ],
   "source": [
    "# List of objectives\n",
    "objectives = [\n",
    "    \"Learn about data science tools.\",\n",
    "    \"Master the use of Python for data analysis.\",\n",
    "    \"Create effective visualizations for decision-making.\",\n",
    "    \"Develop skills in using libraries like Pandas and Matplotlib.\",\n",
    "    \"Participate in data analysis and Machine Learning projects.\"\n",
    "]\n",
    "\n",
    "# Print the objectives\n",
    "print(\"Objectives:\")\n",
    "for objective in objectives:\n",
    "    print(\"- \" + objective)"
   ]
  },
  {
   "cell_type": "markdown",
   "metadata": {},
   "source": [
    "## Author: Balki Tena Contreras"
   ]
  },
  {
   "cell_type": "code",
   "execution_count": null,
   "metadata": {},
   "outputs": [],
   "source": []
  }
 ],
 "metadata": {
  "kernelspec": {
   "display_name": "Python 3 (ipykernel)",
   "language": "python",
   "name": "python3"
  },
  "language_info": {
   "codemirror_mode": {
    "name": "ipython",
    "version": 3
   },
   "file_extension": ".py",
   "mimetype": "text/x-python",
   "name": "python",
   "nbconvert_exporter": "python",
   "pygments_lexer": "ipython3",
   "version": "3.12.8"
  }
 },
 "nbformat": 4,
 "nbformat_minor": 4
}
